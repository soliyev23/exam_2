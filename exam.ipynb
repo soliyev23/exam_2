{
 "cells": [
  {
   "cell_type": "code",
   "execution_count": 87,
   "metadata": {},
   "outputs": [],
   "source": [
    "import pandas as pd\n",
    "from sklearn.metrics import mean_absolute_error as MAE\n",
    "from sklearn.metrics import root_mean_squared_error as RMSE\n",
    "from sklearn.linear_model import Ridge, Lasso, HuberRegressor, RANSACRegressor, TheilSenRegressor,ElasticNet,LinearRegression\n",
    "from sklearn.preprocessing import LabelEncoder\n",
    "import seaborn as sns \n",
    "import matplotlib.pyplot as plt\n",
    "import numpy as np"
   ]
  },
  {
   "cell_type": "code",
   "execution_count": 88,
   "metadata": {},
   "outputs": [],
   "source": [
    "submission = pd.read_csv(\"csv/sample_submission.csv\")\n",
    "test = pd.read_csv(\"csv/test.csv\")\n",
    "train = pd.read_csv(\"csv/train.csv\")"
   ]
  },
  {
   "cell_type": "code",
   "execution_count": 89,
   "metadata": {},
   "outputs": [
    {
     "data": {
      "text/html": [
       "<div>\n",
       "<style scoped>\n",
       "    .dataframe tbody tr th:only-of-type {\n",
       "        vertical-align: middle;\n",
       "    }\n",
       "\n",
       "    .dataframe tbody tr th {\n",
       "        vertical-align: top;\n",
       "    }\n",
       "\n",
       "    .dataframe thead th {\n",
       "        text-align: right;\n",
       "    }\n",
       "</style>\n",
       "<table border=\"1\" class=\"dataframe\">\n",
       "  <thead>\n",
       "    <tr style=\"text-align: right;\">\n",
       "      <th></th>\n",
       "      <th>id</th>\n",
       "      <th>Sex</th>\n",
       "      <th>Length</th>\n",
       "      <th>Diameter</th>\n",
       "      <th>Height</th>\n",
       "      <th>Weight</th>\n",
       "      <th>Shucked Weight</th>\n",
       "      <th>Viscera Weight</th>\n",
       "      <th>Shell Weight</th>\n",
       "      <th>Age</th>\n",
       "    </tr>\n",
       "  </thead>\n",
       "  <tbody>\n",
       "    <tr>\n",
       "      <th>0</th>\n",
       "      <td>0</td>\n",
       "      <td>I</td>\n",
       "      <td>0.5500</td>\n",
       "      <td>0.4125</td>\n",
       "      <td>0.1625</td>\n",
       "      <td>1.715145</td>\n",
       "      <td>0.609514</td>\n",
       "      <td>0.396893</td>\n",
       "      <td>0.566990</td>\n",
       "      <td>4.0</td>\n",
       "    </tr>\n",
       "    <tr>\n",
       "      <th>1</th>\n",
       "      <td>1</td>\n",
       "      <td>F</td>\n",
       "      <td>1.5125</td>\n",
       "      <td>1.2125</td>\n",
       "      <td>0.4000</td>\n",
       "      <td>31.312023</td>\n",
       "      <td>13.395139</td>\n",
       "      <td>6.265239</td>\n",
       "      <td>8.930093</td>\n",
       "      <td>10.0</td>\n",
       "    </tr>\n",
       "    <tr>\n",
       "      <th>2</th>\n",
       "      <td>2</td>\n",
       "      <td>F</td>\n",
       "      <td>1.5125</td>\n",
       "      <td>1.1750</td>\n",
       "      <td>0.4125</td>\n",
       "      <td>31.552993</td>\n",
       "      <td>14.670866</td>\n",
       "      <td>6.279414</td>\n",
       "      <td>9.922325</td>\n",
       "      <td>11.0</td>\n",
       "    </tr>\n",
       "    <tr>\n",
       "      <th>3</th>\n",
       "      <td>3</td>\n",
       "      <td>I</td>\n",
       "      <td>0.8000</td>\n",
       "      <td>0.6000</td>\n",
       "      <td>0.2000</td>\n",
       "      <td>4.620969</td>\n",
       "      <td>3.019222</td>\n",
       "      <td>0.978058</td>\n",
       "      <td>1.417475</td>\n",
       "      <td>7.0</td>\n",
       "    </tr>\n",
       "    <tr>\n",
       "      <th>4</th>\n",
       "      <td>4</td>\n",
       "      <td>I</td>\n",
       "      <td>1.3875</td>\n",
       "      <td>1.0875</td>\n",
       "      <td>0.3625</td>\n",
       "      <td>24.323871</td>\n",
       "      <td>11.651644</td>\n",
       "      <td>5.712424</td>\n",
       "      <td>5.386405</td>\n",
       "      <td>8.0</td>\n",
       "    </tr>\n",
       "  </tbody>\n",
       "</table>\n",
       "</div>"
      ],
      "text/plain": [
       "   id Sex  Length  Diameter  Height     Weight  Shucked Weight  \\\n",
       "0   0   I  0.5500    0.4125  0.1625   1.715145        0.609514   \n",
       "1   1   F  1.5125    1.2125  0.4000  31.312023       13.395139   \n",
       "2   2   F  1.5125    1.1750  0.4125  31.552993       14.670866   \n",
       "3   3   I  0.8000    0.6000  0.2000   4.620969        3.019222   \n",
       "4   4   I  1.3875    1.0875  0.3625  24.323871       11.651644   \n",
       "\n",
       "   Viscera Weight  Shell Weight   Age  \n",
       "0        0.396893      0.566990   4.0  \n",
       "1        6.265239      8.930093  10.0  \n",
       "2        6.279414      9.922325  11.0  \n",
       "3        0.978058      1.417475   7.0  \n",
       "4        5.712424      5.386405   8.0  "
      ]
     },
     "execution_count": 89,
     "metadata": {},
     "output_type": "execute_result"
    }
   ],
   "source": [
    "train.head()"
   ]
  },
  {
   "cell_type": "code",
   "execution_count": 90,
   "metadata": {},
   "outputs": [],
   "source": [
    "X = train[[\"Length\"]]\n",
    "y = train[[\"Age\"]]"
   ]
  },
  {
   "cell_type": "code",
   "execution_count": 91,
   "metadata": {},
   "outputs": [
    {
     "name": "stdout",
     "output_type": "stream",
     "text": [
      "MAE ---> 8.590589432632672\n",
      "RMSE ---> 8.76256321123702\n"
     ]
    }
   ],
   "source": [
    "linear_reg = LinearRegression()\n",
    "\n",
    "linear_reg.fit(X,y)\n",
    "\n",
    "y_pred = linear_reg.predict(test[[\"Length\"]])\n",
    "\n",
    "print(f\"MAE ---> {MAE(test[[\"Length\"]],y_pred)}\")\n",
    "print(f\"RMSE ---> {RMSE(test[[\"Length\"]],y_pred)}\")\n"
   ]
  },
  {
   "cell_type": "code",
   "execution_count": 92,
   "metadata": {},
   "outputs": [],
   "source": [
    "submission[\"Age\"] = y_pred\n",
    "submission.to_csv(\"my_submission.csv\",index=False)"
   ]
  },
  {
   "cell_type": "markdown",
   "metadata": {},
   "source": [
    "16 - place :     1.74808"
   ]
  },
  {
   "cell_type": "code",
   "execution_count": 93,
   "metadata": {},
   "outputs": [],
   "source": [
    "models = [\n",
    "    ('linear', LinearRegression()),\n",
    "    ('ridge', Ridge(alpha=1)),\n",
    "    ('lasso', Lasso(alpha=0.1)),\n",
    "    ('elasticnet', ElasticNet(alpha=1, l1_ratio=0.5)),\n",
    "    ('huber', HuberRegressor()),\n",
    "    ('ransac', RANSACRegressor()),\n",
    "    ('theil', TheilSenRegressor())\n",
    "]"
   ]
  },
  {
   "cell_type": "code",
   "execution_count": 94,
   "metadata": {},
   "outputs": [
    {
     "data": {
      "text/html": [
       "<div>\n",
       "<style scoped>\n",
       "    .dataframe tbody tr th:only-of-type {\n",
       "        vertical-align: middle;\n",
       "    }\n",
       "\n",
       "    .dataframe tbody tr th {\n",
       "        vertical-align: top;\n",
       "    }\n",
       "\n",
       "    .dataframe thead th {\n",
       "        text-align: right;\n",
       "    }\n",
       "</style>\n",
       "<table border=\"1\" class=\"dataframe\">\n",
       "  <thead>\n",
       "    <tr style=\"text-align: right;\">\n",
       "      <th></th>\n",
       "      <th>id</th>\n",
       "      <th>Sex</th>\n",
       "      <th>Length</th>\n",
       "      <th>Diameter</th>\n",
       "      <th>Height</th>\n",
       "      <th>Weight</th>\n",
       "      <th>Shucked Weight</th>\n",
       "      <th>Viscera Weight</th>\n",
       "      <th>Shell Weight</th>\n",
       "      <th>Age</th>\n",
       "    </tr>\n",
       "  </thead>\n",
       "  <tbody>\n",
       "    <tr>\n",
       "      <th>0</th>\n",
       "      <td>0</td>\n",
       "      <td>I</td>\n",
       "      <td>0.5500</td>\n",
       "      <td>0.4125</td>\n",
       "      <td>0.1625</td>\n",
       "      <td>1.715145</td>\n",
       "      <td>0.609514</td>\n",
       "      <td>0.396893</td>\n",
       "      <td>0.566990</td>\n",
       "      <td>4.0</td>\n",
       "    </tr>\n",
       "    <tr>\n",
       "      <th>1</th>\n",
       "      <td>1</td>\n",
       "      <td>F</td>\n",
       "      <td>1.5125</td>\n",
       "      <td>1.2125</td>\n",
       "      <td>0.4000</td>\n",
       "      <td>31.312023</td>\n",
       "      <td>13.395139</td>\n",
       "      <td>6.265239</td>\n",
       "      <td>8.930093</td>\n",
       "      <td>10.0</td>\n",
       "    </tr>\n",
       "    <tr>\n",
       "      <th>2</th>\n",
       "      <td>2</td>\n",
       "      <td>F</td>\n",
       "      <td>1.5125</td>\n",
       "      <td>1.1750</td>\n",
       "      <td>0.4125</td>\n",
       "      <td>31.552993</td>\n",
       "      <td>14.670866</td>\n",
       "      <td>6.279414</td>\n",
       "      <td>9.922325</td>\n",
       "      <td>11.0</td>\n",
       "    </tr>\n",
       "    <tr>\n",
       "      <th>3</th>\n",
       "      <td>3</td>\n",
       "      <td>I</td>\n",
       "      <td>0.8000</td>\n",
       "      <td>0.6000</td>\n",
       "      <td>0.2000</td>\n",
       "      <td>4.620969</td>\n",
       "      <td>3.019222</td>\n",
       "      <td>0.978058</td>\n",
       "      <td>1.417475</td>\n",
       "      <td>7.0</td>\n",
       "    </tr>\n",
       "    <tr>\n",
       "      <th>4</th>\n",
       "      <td>4</td>\n",
       "      <td>I</td>\n",
       "      <td>1.3875</td>\n",
       "      <td>1.0875</td>\n",
       "      <td>0.3625</td>\n",
       "      <td>24.323871</td>\n",
       "      <td>11.651644</td>\n",
       "      <td>5.712424</td>\n",
       "      <td>5.386405</td>\n",
       "      <td>8.0</td>\n",
       "    </tr>\n",
       "  </tbody>\n",
       "</table>\n",
       "</div>"
      ],
      "text/plain": [
       "   id Sex  Length  Diameter  Height     Weight  Shucked Weight  \\\n",
       "0   0   I  0.5500    0.4125  0.1625   1.715145        0.609514   \n",
       "1   1   F  1.5125    1.2125  0.4000  31.312023       13.395139   \n",
       "2   2   F  1.5125    1.1750  0.4125  31.552993       14.670866   \n",
       "3   3   I  0.8000    0.6000  0.2000   4.620969        3.019222   \n",
       "4   4   I  1.3875    1.0875  0.3625  24.323871       11.651644   \n",
       "\n",
       "   Viscera Weight  Shell Weight   Age  \n",
       "0        0.396893      0.566990   4.0  \n",
       "1        6.265239      8.930093  10.0  \n",
       "2        6.279414      9.922325  11.0  \n",
       "3        0.978058      1.417475   7.0  \n",
       "4        5.712424      5.386405   8.0  "
      ]
     },
     "execution_count": 94,
     "metadata": {},
     "output_type": "execute_result"
    }
   ],
   "source": [
    "train.head()"
   ]
  },
  {
   "cell_type": "code",
   "execution_count": 95,
   "metadata": {},
   "outputs": [
    {
     "data": {
      "text/plain": [
       "Sex\n",
       "M           5387\n",
       "I           5050\n",
       "F           4562\n",
       "Diameter       1\n",
       "Name: count, dtype: int64"
      ]
     },
     "execution_count": 95,
     "metadata": {},
     "output_type": "execute_result"
    }
   ],
   "source": [
    "train.value_counts(\"Sex\")"
   ]
  },
  {
   "cell_type": "code",
   "execution_count": 96,
   "metadata": {},
   "outputs": [],
   "source": [
    "# X = train.drop(columns=[\"Age\"])\n",
    "X = train[[\"Length\"]]\n",
    "y = train[[\"Age\"]]"
   ]
  },
  {
   "cell_type": "code",
   "execution_count": 97,
   "metadata": {},
   "outputs": [
    {
     "name": "stdout",
     "output_type": "stream",
     "text": [
      "Model: linear       MAE: 8.590589432632672\n",
      "Model: ridge       MAE: 8.590611909157657\n",
      "Model: lasso       MAE: 8.59543342999965\n",
      "Model: elasticnet       MAE: 8.618284598362601\n",
      "Model: huber       MAE: 8.029023586736146\n",
      "Model: ransac       MAE: 7.938088600683645\n"
     ]
    },
    {
     "name": "stderr",
     "output_type": "stream",
     "text": [
      "c:\\Users\\HP\\AppData\\Local\\Programs\\Python\\Python312\\Lib\\site-packages\\sklearn\\utils\\validation.py:1339: DataConversionWarning: A column-vector y was passed when a 1d array was expected. Please change the shape of y to (n_samples, ), for example using ravel().\n",
      "  y = column_or_1d(y, warn=True)\n",
      "c:\\Users\\HP\\AppData\\Local\\Programs\\Python\\Python312\\Lib\\site-packages\\sklearn\\utils\\validation.py:1339: DataConversionWarning: A column-vector y was passed when a 1d array was expected. Please change the shape of y to (n_samples, ), for example using ravel().\n",
      "  y = column_or_1d(y, warn=True)\n"
     ]
    },
    {
     "name": "stdout",
     "output_type": "stream",
     "text": [
      "Model: theil       MAE: 7.873616183734154\n"
     ]
    }
   ],
   "source": [
    "for i in models:\n",
    "    model = i[-1]\n",
    "    model.fit(X,y)\n",
    "    y_pred = model.predict(test[[\"Length\"]])\n",
    "    print(f\"Model: {i[0]}       MAE: {MAE(test[\"Length\"], y_pred)}\")\n",
    "\n",
    "\n"
   ]
  },
  {
   "cell_type": "code",
   "execution_count": 98,
   "metadata": {},
   "outputs": [],
   "source": [
    "X = train.drop(columns=[\"Age\"])\n",
    "y = train[[\"Age\"]]\n",
    "\n",
    "label_encoder  = LabelEncoder()\n",
    "train[\"Sex\"] = label_encoder.fit_transform(train[\"Sex\"])\n",
    "train.loc[train[\"Sex\"] == 0, \"Sex\"] = train[\"Sex\"].mode()"
   ]
  },
  {
   "cell_type": "code",
   "execution_count": 99,
   "metadata": {},
   "outputs": [],
   "source": [
    "test[\"Sex\"] = label_encoder.fit_transform(test[\"Sex\"])\n",
    "X[\"Sex\"] = label_encoder.fit_transform(X[\"Sex\"])"
   ]
  },
  {
   "cell_type": "code",
   "execution_count": 100,
   "metadata": {},
   "outputs": [
    {
     "data": {
      "text/html": [
       "<div>\n",
       "<style scoped>\n",
       "    .dataframe tbody tr th:only-of-type {\n",
       "        vertical-align: middle;\n",
       "    }\n",
       "\n",
       "    .dataframe tbody tr th {\n",
       "        vertical-align: top;\n",
       "    }\n",
       "\n",
       "    .dataframe thead th {\n",
       "        text-align: right;\n",
       "    }\n",
       "</style>\n",
       "<table border=\"1\" class=\"dataframe\">\n",
       "  <thead>\n",
       "    <tr style=\"text-align: right;\">\n",
       "      <th></th>\n",
       "      <th>id</th>\n",
       "      <th>Sex</th>\n",
       "      <th>Length</th>\n",
       "      <th>Diameter</th>\n",
       "      <th>Height</th>\n",
       "      <th>Weight</th>\n",
       "      <th>Shucked Weight</th>\n",
       "      <th>Viscera Weight</th>\n",
       "      <th>Shell Weight</th>\n",
       "    </tr>\n",
       "  </thead>\n",
       "  <tbody>\n",
       "    <tr>\n",
       "      <th>0</th>\n",
       "      <td>0</td>\n",
       "      <td>2</td>\n",
       "      <td>0.5500</td>\n",
       "      <td>0.4125</td>\n",
       "      <td>0.1625</td>\n",
       "      <td>1.715145</td>\n",
       "      <td>0.609514</td>\n",
       "      <td>0.396893</td>\n",
       "      <td>0.566990</td>\n",
       "    </tr>\n",
       "    <tr>\n",
       "      <th>1</th>\n",
       "      <td>1</td>\n",
       "      <td>1</td>\n",
       "      <td>1.5125</td>\n",
       "      <td>1.2125</td>\n",
       "      <td>0.4000</td>\n",
       "      <td>31.312023</td>\n",
       "      <td>13.395139</td>\n",
       "      <td>6.265239</td>\n",
       "      <td>8.930093</td>\n",
       "    </tr>\n",
       "    <tr>\n",
       "      <th>2</th>\n",
       "      <td>2</td>\n",
       "      <td>1</td>\n",
       "      <td>1.5125</td>\n",
       "      <td>1.1750</td>\n",
       "      <td>0.4125</td>\n",
       "      <td>31.552993</td>\n",
       "      <td>14.670866</td>\n",
       "      <td>6.279414</td>\n",
       "      <td>9.922325</td>\n",
       "    </tr>\n",
       "    <tr>\n",
       "      <th>3</th>\n",
       "      <td>3</td>\n",
       "      <td>2</td>\n",
       "      <td>0.8000</td>\n",
       "      <td>0.6000</td>\n",
       "      <td>0.2000</td>\n",
       "      <td>4.620969</td>\n",
       "      <td>3.019222</td>\n",
       "      <td>0.978058</td>\n",
       "      <td>1.417475</td>\n",
       "    </tr>\n",
       "    <tr>\n",
       "      <th>4</th>\n",
       "      <td>4</td>\n",
       "      <td>2</td>\n",
       "      <td>1.3875</td>\n",
       "      <td>1.0875</td>\n",
       "      <td>0.3625</td>\n",
       "      <td>24.323871</td>\n",
       "      <td>11.651644</td>\n",
       "      <td>5.712424</td>\n",
       "      <td>5.386405</td>\n",
       "    </tr>\n",
       "  </tbody>\n",
       "</table>\n",
       "</div>"
      ],
      "text/plain": [
       "   id  Sex  Length  Diameter  Height     Weight  Shucked Weight  \\\n",
       "0   0    2  0.5500    0.4125  0.1625   1.715145        0.609514   \n",
       "1   1    1  1.5125    1.2125  0.4000  31.312023       13.395139   \n",
       "2   2    1  1.5125    1.1750  0.4125  31.552993       14.670866   \n",
       "3   3    2  0.8000    0.6000  0.2000   4.620969        3.019222   \n",
       "4   4    2  1.3875    1.0875  0.3625  24.323871       11.651644   \n",
       "\n",
       "   Viscera Weight  Shell Weight  \n",
       "0        0.396893      0.566990  \n",
       "1        6.265239      8.930093  \n",
       "2        6.279414      9.922325  \n",
       "3        0.978058      1.417475  \n",
       "4        5.712424      5.386405  "
      ]
     },
     "execution_count": 100,
     "metadata": {},
     "output_type": "execute_result"
    }
   ],
   "source": [
    "X.head()"
   ]
  },
  {
   "cell_type": "code",
   "execution_count": 101,
   "metadata": {},
   "outputs": [
    {
     "name": "stderr",
     "output_type": "stream",
     "text": [
      "c:\\Users\\HP\\AppData\\Local\\Programs\\Python\\Python312\\Lib\\site-packages\\sklearn\\utils\\validation.py:1339: DataConversionWarning: A column-vector y was passed when a 1d array was expected. Please change the shape of y to (n_samples, ), for example using ravel().\n",
      "  y = column_or_1d(y, warn=True)\n"
     ]
    }
   ],
   "source": [
    "model = RANSACRegressor()\n",
    "model = i[-1]\n",
    "model.fit(X,y)\n",
    "y_pred = model.predict(test)"
   ]
  },
  {
   "cell_type": "code",
   "execution_count": 102,
   "metadata": {},
   "outputs": [
    {
     "data": {
      "text/html": [
       "<div>\n",
       "<style scoped>\n",
       "    .dataframe tbody tr th:only-of-type {\n",
       "        vertical-align: middle;\n",
       "    }\n",
       "\n",
       "    .dataframe tbody tr th {\n",
       "        vertical-align: top;\n",
       "    }\n",
       "\n",
       "    .dataframe thead th {\n",
       "        text-align: right;\n",
       "    }\n",
       "</style>\n",
       "<table border=\"1\" class=\"dataframe\">\n",
       "  <thead>\n",
       "    <tr style=\"text-align: right;\">\n",
       "      <th></th>\n",
       "      <th>id</th>\n",
       "      <th>Age</th>\n",
       "    </tr>\n",
       "  </thead>\n",
       "  <tbody>\n",
       "    <tr>\n",
       "      <th>0</th>\n",
       "      <td>15000</td>\n",
       "      <td>6.666478</td>\n",
       "    </tr>\n",
       "    <tr>\n",
       "      <th>1</th>\n",
       "      <td>15001</td>\n",
       "      <td>8.669375</td>\n",
       "    </tr>\n",
       "    <tr>\n",
       "      <th>2</th>\n",
       "      <td>15002</td>\n",
       "      <td>5.628867</td>\n",
       "    </tr>\n",
       "    <tr>\n",
       "      <th>3</th>\n",
       "      <td>15003</td>\n",
       "      <td>7.733118</td>\n",
       "    </tr>\n",
       "    <tr>\n",
       "      <th>4</th>\n",
       "      <td>15004</td>\n",
       "      <td>6.817833</td>\n",
       "    </tr>\n",
       "    <tr>\n",
       "      <th>...</th>\n",
       "      <td>...</td>\n",
       "      <td>...</td>\n",
       "    </tr>\n",
       "    <tr>\n",
       "      <th>9995</th>\n",
       "      <td>24995</td>\n",
       "      <td>8.952947</td>\n",
       "    </tr>\n",
       "    <tr>\n",
       "      <th>9996</th>\n",
       "      <td>24996</td>\n",
       "      <td>8.269827</td>\n",
       "    </tr>\n",
       "    <tr>\n",
       "      <th>9997</th>\n",
       "      <td>24997</td>\n",
       "      <td>9.958038</td>\n",
       "    </tr>\n",
       "    <tr>\n",
       "      <th>9998</th>\n",
       "      <td>24998</td>\n",
       "      <td>8.222661</td>\n",
       "    </tr>\n",
       "    <tr>\n",
       "      <th>9999</th>\n",
       "      <td>24999</td>\n",
       "      <td>8.003002</td>\n",
       "    </tr>\n",
       "  </tbody>\n",
       "</table>\n",
       "<p>10000 rows × 2 columns</p>\n",
       "</div>"
      ],
      "text/plain": [
       "         id       Age\n",
       "0     15000  6.666478\n",
       "1     15001  8.669375\n",
       "2     15002  5.628867\n",
       "3     15003  7.733118\n",
       "4     15004  6.817833\n",
       "...     ...       ...\n",
       "9995  24995  8.952947\n",
       "9996  24996  8.269827\n",
       "9997  24997  9.958038\n",
       "9998  24998  8.222661\n",
       "9999  24999  8.003002\n",
       "\n",
       "[10000 rows x 2 columns]"
      ]
     },
     "execution_count": 102,
     "metadata": {},
     "output_type": "execute_result"
    }
   ],
   "source": [
    "submission[\"Age\"] = y_pred\n",
    "submission.to_csv(\"my_submission.csv\",index=False)\n",
    "submission"
   ]
  }
 ],
 "metadata": {
  "kernelspec": {
   "display_name": "Python 3",
   "language": "python",
   "name": "python3"
  },
  "language_info": {
   "codemirror_mode": {
    "name": "ipython",
    "version": 3
   },
   "file_extension": ".py",
   "mimetype": "text/x-python",
   "name": "python",
   "nbconvert_exporter": "python",
   "pygments_lexer": "ipython3",
   "version": "3.12.0"
  }
 },
 "nbformat": 4,
 "nbformat_minor": 2
}
